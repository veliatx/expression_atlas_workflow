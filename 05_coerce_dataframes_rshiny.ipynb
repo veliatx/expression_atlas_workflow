{
 "cells": [
  {
   "cell_type": "markdown",
   "metadata": {},
   "source": [
    "# Create dataframes for use in Rshiny app\n",
    "* Two outputs:\n",
    "    * First output is metadata dataframe.\n",
    "    * Second output is longform dataframe with logfc values, pvalues, etc."
   ]
  },
  {
   "cell_type": "markdown",
   "metadata": {},
   "source": [
    "Example header second dataframe:\n",
    "\"Reference\",\"Gene.Symbol\",\"Annotation\",\"log2FC_INAFM2-HB\",\"p.val_INAFM2-HB\",\"q.val_INAFM2-HB\",\"sig_INAFM2-HB\",\"log2FC_TNF-HB\",\"p.val_TNF-HB\",\"q.val_TNF-HB\",\"sig_TNF-HB\",\"log2FC_INAFM2-TNF\",\"p.val_INAFM2-TNF\",\"q.val_INAFM2-TNF\",\"sig_INAFM2-TNF\",\"p.val_anova\",\"q.val_anova\",\"sig_anova\",\"HB\",\"INAFM2\",\"TNF\",\"HB_1\",\"HB_2\",\"HB_3\",\"TNF_1\",\"TNF_2\",\"TNF_3\",\"INAFM2_1\",\"INAFM2_2\",\"INAFM2_3\"\n",
    "\"sp|A6NHG4|A6NHG4_sep_P30046_INDEX_31\",\"DDTL\",\"D-dopachrome decarboxylase-like protein (EC 4.1.1.-) (D-dopachrome tautomerase-like protein)\",0.237493160183558,0.000783866415292806,0.0959129879152952,\"n.s.\",0.115973676432326,0.0314165085496348,0.125876569252111,\"n.s.\",0.121519483751232,0.0259869864656247,0.153705217160899,\"n.s.\",0.00255102742689988,0.037099554132613,\"sig\",19.654729084776,19.8922222449596,19.7707027612083,19.723710933439,19.6818183220977,19.5586579987914,19.751790837475,19.8177300438078,19.7425874023422,19.883882750514,19.8941368403913,19.8986471439734\n",
    "\n",
    "Example header first dataframe:\n",
    "Channel,Condition,Replicate,priority,Mixture\n",
    "TMT1,HB,1,1,Mixture1\n",
    "TMT2,HB,2,1,Mixture1\n",
    "TMT3,HB,3,1,Mixture1\n",
    "TMT4,TNF,1,2,Mixture1\n",
    "TMT5,TNF,2,2,Mixture1\n",
    "TMT6,TNF,3,2,Mixture1\n",
    "TMT7,INAFM2,1,3,Mixture1\n",
    "TMT8,INAFM2,2,3,Mixture1\n",
    "TMT9,INAFM2,3,3,Mixture1\n",
    "TMT10,Empty,Empty,Empty,Mixture1\n",
    "TMT11,Empty,Empty,Empty,Mixture1\n",
    "TMT12,Empty,Empty,Empty,Mixture1\n",
    "TMT13,Empty,Empty,Empty,Mixture1\n",
    "TMT14,Empty,Empty,Empty,Mixture1\n",
    "TMT15,Empty,Empty,Empty,Mixture1\n",
    "TMT16,Empty,Empty,Empty,Mixture1\n",
    "TMT17,Empty,Empty,Empty,Mixture1\n",
    "TMT18,Empty,Empty,Empty,Mixture1\n",
    "\n"
   ]
  },
  {
   "cell_type": "code",
   "execution_count": null,
   "metadata": {},
   "outputs": [],
   "source": [
    "import pandas as pd\n",
    "import numpy as np\n",
    "from pybiomart import Dataset\n",
    "import anndata as ad\n",
    "import os"
   ]
  },
  {
   "cell_type": "code",
   "execution_count": null,
   "metadata": {},
   "outputs": [],
   "source": [
    "#DATA_PATH = '/data/expression_atlas/v1/GSE80183/'\n",
    "\n",
    "DATA_PATH = '/VPR_20230926_X202SC23091601-Z01-F001'\n",
    "\n",
    "# DATA_PATH = os.getcwd()\n",
    "\n",
    "RESULTS_PATH = 'de_results/%s' % DATA_PATH.rstrip('/').split('/')[-1]\n",
    "\n",
    "DDS_GENE_FH = RESULTS_PATH + '_dds_gene.h5_ad'\n",
    "\n",
    "PADJ_CUTOFF = 0.05\n",
    "LOGFC_CUTOFF = np.log2(1.5)"
   ]
  },
  {
   "cell_type": "code",
   "execution_count": null,
   "metadata": {},
   "outputs": [],
   "source": [
    "# Load adata objects containing normed_counts for running traditional gsea.\n",
    "\n",
    "dds_gene = ad.read_h5ad(DDS_GENE_FH)\n",
    "\n",
    "dds_gene.X.shape, dds_gene.uns['contrasts']"
   ]
  },
  {
   "cell_type": "code",
   "execution_count": null,
   "metadata": {},
   "outputs": [],
   "source": [
    "# Copy DE dataframes to new dataframe that can be manipulated for gsea.\n",
    "\n",
    "dds_gene.uns['stat_results_out'] = {k:v.copy() for k,v in dds_gene.uns['stat_results'].items()}\n",
    "dds_gene.uns['stat_results_lrtnull_out'] = dds_gene.uns['stat_results_lrtnull'].copy()"
   ]
  },
  {
   "cell_type": "code",
   "execution_count": null,
   "metadata": {},
   "outputs": [],
   "source": [
    "# Filter dataframes by gene_id, only keep ensembl gene ids.\n",
    "\n",
    "gene_prefix = 'ENSG'\n",
    "\n",
    "for k in dds_gene.uns['stat_results_out'].keys():\n",
    "    dds_gene.uns['stat_results_out'][k] = dds_gene.uns['stat_results_out'][k][\n",
    "                                                dds_gene.uns['stat_results_out'][k].index.str.startswith(gene_prefix)\n",
    "                                            ]\n",
    "    \n",
    "    dds_gene.uns['stat_results_lrtnull_out'] = dds_gene.uns['stat_results_lrtnull_out'][\n",
    "                                                dds_gene.uns['stat_results_lrtnull_out'].index.str.startswith(gene_prefix)\n",
    "                                            ]"
   ]
  },
  {
   "cell_type": "code",
   "execution_count": null,
   "metadata": {},
   "outputs": [],
   "source": [
    "# Fetch ensembl gene id - external gene name - uniprotid - gene description mappings from biomart.\n",
    "\n",
    "dataset = Dataset(\n",
    "                name='hsapiens_gene_ensembl',\n",
    "                host='http://www.ensembl.org',\n",
    "            )\n",
    "\n",
    "external_gene_mapping = dataset.query(\n",
    "                                attributes=[\n",
    "                                    'ensembl_gene_id', \n",
    "                                    'external_gene_name',\n",
    "                                    'description',\n",
    "                                    'uniprotswissprot',\n",
    "                                ]\n",
    "                            )\n",
    "\n",
    "external_gene_mapping.rename({'Gene stable ID': 'gene_id', 'Gene name': 'gene_name'}, axis=1, inplace=True)\n",
    "\n",
    "external_gene_mapping"
   ]
  },
  {
   "cell_type": "code",
   "execution_count": null,
   "metadata": {},
   "outputs": [],
   "source": [
    "# Reset uniprotid if not present(lncRNAs/other misc genes) and deduplicate on gene_name. \n",
    "\n",
    "external_gene_mapping.loc[\n",
    "                        external_gene_mapping['UniProtKB/Swiss-Prot ID'].isnull(),\n",
    "                        'UniProtKB/Swiss-Prot ID'\n",
    "                    ] = external_gene_mapping['gene_name'][external_gene_mapping['UniProtKB/Swiss-Prot ID'].isnull()]\n",
    "external_gene_mapping.drop_duplicates(subset=['gene_name'], inplace=True, keep='first')\n",
    "external_gene_mapping"
   ]
  },
  {
   "cell_type": "code",
   "execution_count": null,
   "metadata": {},
   "outputs": [],
   "source": [
    "# Build output statistical dataframe off of this gene-mapping dataframe.\n",
    "\n",
    "out_df = external_gene_mapping.copy()\n",
    "\n",
    "out_df.rename(\n",
    "        {\n",
    "        'gene_name': 'Gene.Symbol', \n",
    "        'Gene description': 'Annotation',\n",
    "        },\n",
    "        axis=1,\n",
    "        inplace=True,\n",
    "    )\n",
    "\n",
    "out_df['Reference'] = out_df['UniProtKB/Swiss-Prot ID'].map(lambda x: 'sp|%s|empty' % x)\n",
    "out_df"
   ]
  },
  {
   "cell_type": "code",
   "execution_count": null,
   "metadata": {},
   "outputs": [],
   "source": [
    "# Create ens_gene columns for mapping between deseq2 output dataframes and output dataframe.\n",
    "\n",
    "for k,v in dds_gene.uns['stat_results_out'].items():\n",
    "    v['ens_gene'] = v.index.str.split('.').str[0]\n",
    "\n",
    "dds_gene.uns['stat_results_lrtnull_out']['ens_gene'] = dds_gene.uns['stat_results_lrtnull_out'].index.str.split('.').str[0]\n",
    "\n",
    "dds_gene.uns['stat_results_out']"
   ]
  },
  {
   "cell_type": "code",
   "execution_count": null,
   "metadata": {},
   "outputs": [],
   "source": [
    "# Concatenate columns onto output dataframe for each contrasts in stat_results.\n",
    "\n",
    "out_df = out_df[['Reference', 'Gene.Symbol', 'Annotation', 'gene_id', ]]\n",
    "\n",
    "for k, v in dds_gene.uns['contrasts'].items():\n",
    "\n",
    "    v_1 = v[1].replace('-','_')\n",
    "    v_2 = v[2].replace('-','_')\n",
    "\n",
    "    v_1 = v[1].replace('-','')\n",
    "    v_2 = v[2].replace('-','')\n",
    "\n",
    "    out_df = out_df.merge(dds_gene.uns['stat_results_out'][k], left_on='gene_id', right_on='ens_gene')\n",
    "    \n",
    "    out_df.drop(\n",
    "            [\n",
    "                '-log10_padj',\n",
    "                'baseMean',\n",
    "                'lfcSE',\n",
    "                'stat',\n",
    "             ]+[c for c in out_df.columns if c.startswith('ens_gene')], \n",
    "            axis=1,\n",
    "            inplace=True,\n",
    "        )\n",
    "    \n",
    "    out_df.rename(\n",
    "                {\n",
    "                'log2FoldChange':'log2FC_%s-%s' % (v_1, v_2),\n",
    "                'pvalue':'p.val_%s-%s' % (v_1, v_2),\n",
    "                'padj':'q.val_%s-%s' % (v_1, v_2),\n",
    "                },\n",
    "                axis=1,\n",
    "                inplace=True,\n",
    "            )\n",
    "    \n",
    "    out_df['sig_%s-%s' % (v_1, v_2)] = 'n.s.'\n",
    "\n",
    "    filter_up = (out_df['q.val_%s-%s' % (v_1, v_2)] < PADJ_CUTOFF) & \\\n",
    "                    (out_df['log2FC_%s-%s' % (v_1, v_2)] > LOGFC_CUTOFF)\n",
    "    \n",
    "    out_df.loc[filter_up, 'sig_%s-%s' % (v_1, v_2)] = 'up' \n",
    "\n",
    "    filter_down = (out_df['q.val_%s-%s' % (v_1, v_2)] < PADJ_CUTOFF) & \\\n",
    "                    (out_df['log2FC_%s-%s' % (v_1, v_2)] < -1. * LOGFC_CUTOFF)\n",
    "    \n",
    "    out_df.loc[filter_down, 'sig_%s-%s' % (v_1, v_2)] = 'down' \n",
    "\n",
    "    out_df.loc[out_df['p.val_%s-%s' % (v_1, v_2)].isnull()] = 1.0\n",
    "    out_df.loc[out_df['q.val_%s-%s' % (v_1, v_2)].isnull()] = 1.0\n",
    "\n"
   ]
  },
  {
   "cell_type": "code",
   "execution_count": null,
   "metadata": {},
   "outputs": [],
   "source": [
    "out_df"
   ]
  },
  {
   "cell_type": "code",
   "execution_count": null,
   "metadata": {},
   "outputs": [],
   "source": [
    "# Merge the anova results into output dataframe.\n",
    "\n",
    "out_df = out_df.merge(dds_gene.uns['stat_results_lrtnull_out'], left_on='gene_id', right_on='ens_gene')\n",
    "\n",
    "out_df.drop(['ens_gene'], axis=1, inplace=True)\n",
    "\n",
    "out_df.rename(\n",
    "            {\n",
    "                'pvalue': 'p.val_anova',\n",
    "                'padj': 'q.val_anova', \n",
    "            },\n",
    "            inplace=True,\n",
    "            axis=1,\n",
    "        )\n",
    "\n",
    "out_df['sig_anova'] = 'n.s.'\n",
    "\n",
    "filter_anova = out_df['q.val_anova'] < PADJ_CUTOFF\n",
    "    \n",
    "out_df.loc[filter_anova, 'sig_anova'] = 'sig' \n",
    "\n",
    "out_df.loc[out_df['p.val_anova'].isnull()] = 1.0\n",
    "out_df.loc[out_df['q.val_anova'].isnull()] = 1.0"
   ]
  },
  {
   "cell_type": "code",
   "execution_count": null,
   "metadata": {},
   "outputs": [],
   "source": [
    "# Process tpm dataframe with normed_tpms to concatenate onto output dataframe.\n",
    "\n",
    "indices = [''.join(r.split('_')[:-1])+'_'+r.split('_')[-1] for r in dds_gene.obs.index]\n",
    "\n",
    "tpm_df = pd.DataFrame(dds_gene.layers['normed_tpm'], index=indices, columns=dds_gene.var.index)\n",
    "\n",
    "tpm_df = np.log2(tpm_df + 1.)\n",
    "\n",
    "tpm_df['condition-1'] = [r.replace('-','') for r in dds_gene.obs['condition-1']]\n",
    "\n",
    "tpm_df"
   ]
  },
  {
   "cell_type": "code",
   "execution_count": null,
   "metadata": {},
   "outputs": [],
   "source": [
    "# Create tpm dataframe with group means.\n",
    "\n",
    "tpm_df_mean = tpm_df.groupby('condition-1').mean().T\n",
    "\n",
    "tpm_df_mean['ens_gene'] = tpm_df_mean.index.str.split('.').str[0]\n",
    "\n",
    "tpm_df_mean\n"
   ]
  },
  {
   "cell_type": "code",
   "execution_count": null,
   "metadata": {},
   "outputs": [],
   "source": [
    "# Merge tpm dataframes into output dataframe.\n",
    "\n",
    "tpm_df = tpm_df.T\n",
    "tpm_df['ens_gene'] = tpm_df.index.str.split('.').str[0]\n",
    "\n",
    "out_df = out_df.merge(tpm_df_mean, left_on='gene_id', right_on='ens_gene')\n",
    "out_df.drop('ens_gene', axis=1, inplace=True)\n",
    "\n",
    "out_df = out_df.merge(tpm_df, left_on='gene_id', right_on='ens_gene')\n",
    "out_df.drop('ens_gene', axis=1, inplace=True)\n",
    "out_df.drop('gene_id', axis=1, inplace=True)\n",
    "\n",
    "out_df"
   ]
  },
  {
   "cell_type": "code",
   "execution_count": null,
   "metadata": {},
   "outputs": [],
   "source": [
    "# Remove rows that don't have data.\n",
    "\n",
    "out_df = out_df[~out_df[out_df.columns[-1]].isnull()]\n",
    "\n",
    "out_df"
   ]
  },
  {
   "cell_type": "code",
   "execution_count": null,
   "metadata": {},
   "outputs": [],
   "source": [
    "# Set cluster in output dataframe, this gets reassigned by Ian during gene-level clustering.\n",
    "\n",
    "out_df['cluster'] = 1\n",
    "\n",
    "out_df"
   ]
  },
  {
   "cell_type": "code",
   "execution_count": null,
   "metadata": {},
   "outputs": [],
   "source": [
    "# Save output to csv. \n",
    "\n",
    "out_df.to_csv(RESULTS_PATH+'_deseq2_out.csv', index=False)"
   ]
  },
  {
   "cell_type": "code",
   "execution_count": null,
   "metadata": {},
   "outputs": [],
   "source": [
    "# Build metadataframe from anndata obs. \n",
    "\n",
    "meta_df = dds_gene.obs.copy()\n",
    "\n",
    "meta_df.reset_index(inplace=True)\n",
    "\n",
    "meta_df"
   ]
  },
  {
   "cell_type": "code",
   "execution_count": null,
   "metadata": {},
   "outputs": [],
   "source": [
    "# Create priorites dict that maps sample conditions to the number of comparisons made in contrasts.\n",
    "\n",
    "count_contrasts = {l.replace('-',''):0 for k,v in dds_gene.uns['contrasts'].items() for l in v[1:]}\n",
    "\n",
    "for k, v in dds_gene.uns['contrasts'].items():\n",
    "    count_contrasts[v[2].replace('-','')] += 1\n",
    "\n",
    "priorities = {k:i+1 for i, (k,v) in enumerate(sorted([*count_contrasts.items()], key=lambda x: x[1], reverse=True))}\n",
    "priorities"
   ]
  },
  {
   "cell_type": "code",
   "execution_count": null,
   "metadata": {},
   "outputs": [],
   "source": [
    "# Set columns in metadata frame to allow for parsing by shiny app.\n",
    "\n",
    "meta_df['Condition'] = meta_df['accession'].str.split('_').str[:-1].str.join('_').str.replace('_','')\n",
    "meta_df['condition-1'] = meta_df['condition-1'].str.replace('-','').str.replace('-','')\n",
    "meta_df['Replicate'] = meta_df['accession'].str.split('_').str[-1]\n",
    "meta_df['priority'] = meta_df['condition-1'].map(lambda x: priorities[x])\n",
    "meta_df['cluster'] = 1\n",
    "meta_df.drop(['accession', 'condition-1', 'size_factors', 'lib_sizes', 'sample_sums'], inplace=True, axis=1)\n",
    "meta_df.fillna('Empty', inplace=True)"
   ]
  },
  {
   "cell_type": "code",
   "execution_count": null,
   "metadata": {},
   "outputs": [],
   "source": [
    "# Fill empty rows in metadata frame. \n",
    "\n",
    "meta_df = pd.concat(\n",
    "                [\n",
    "                    meta_df, \n",
    "                    pd.DataFrame([['Empty']*meta_df.shape[1]]*(18 - meta_df.shape[0]), columns=meta_df.columns),\n",
    "                ], \n",
    "                ignore_index=True, \n",
    "                axis=0,\n",
    "            )"
   ]
  },
  {
   "cell_type": "code",
   "execution_count": null,
   "metadata": {},
   "outputs": [],
   "source": [
    "# Set columns to be equivalent to mass-spec inputs.\n",
    "\n",
    "meta_df['Channel'] = ['TMT %s.00' % i for i in range(1, meta_df.shape[0]+1)]\n",
    "meta_df['Mixture'] = 'Mixture1'\n",
    "\n",
    "meta_df = meta_df[['Channel']+[c for c in meta_df.columns if c != 'Channel']]\n",
    "meta_df"
   ]
  },
  {
   "cell_type": "code",
   "execution_count": null,
   "metadata": {},
   "outputs": [],
   "source": [
    "# Save metadata output to csv. \n",
    "\n",
    "meta_df.to_csv(RESULTS_PATH+'_deseq2_meta.csv', index=False)"
   ]
  }
 ],
 "metadata": {
  "kernelspec": {
   "display_name": "Python 3",
   "language": "python",
   "name": "python3"
  },
  "language_info": {
   "codemirror_mode": {
    "name": "ipython",
    "version": 3
   },
   "file_extension": ".py",
   "mimetype": "text/x-python",
   "name": "python",
   "nbconvert_exporter": "python",
   "pygments_lexer": "ipython3",
   "version": "3.8.17"
  },
  "orig_nbformat": 4
 },
 "nbformat": 4,
 "nbformat_minor": 2
}
