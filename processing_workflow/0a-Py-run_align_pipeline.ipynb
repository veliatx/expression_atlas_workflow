{
 "cells": [
  {
   "cell_type": "markdown",
   "id": "ba03e6cf-964c-418c-9be8-e4ce8e99173b",
   "metadata": {},
   "source": [
    "# Fetch metadata first"
   ]
  },
  {
   "cell_type": "code",
   "execution_count": null,
   "id": "a9a2b70b-26d3-4ea8-b136-81a5714ed493",
   "metadata": {
    "tags": []
   },
   "outputs": [],
   "source": [
    "IDS = ['']"
   ]
  },
  {
   "cell_type": "code",
   "execution_count": null,
   "id": "f25f446e-4af1-4e29-ab69-d80100afa075",
   "metadata": {
    "tags": []
   },
   "outputs": [],
   "source": [
    "import subprocess\n",
    "import shlex\n",
    "import shutil\n",
    "import os \n",
    "import glob\n",
    "\n",
    "import pandas as pd\n",
    "import csv"
   ]
  },
  {
   "cell_type": "code",
   "execution_count": null,
   "id": "4dfd20ea-b986-487a-ac7e-ee7b589efe46",
   "metadata": {
    "tags": []
   },
   "outputs": [],
   "source": [
    "BASE_DIR = '/fastdata'\n",
    "CONFIG_DIR = '/data/expression_atlas/configs'\n",
    "OUTPUT_DIR = os.path.join(BASE_DIR, 'expression_atlas/runs/%s' % IDS[0])\n",
    "\n",
    "STAR_REFERENCE_DIRECTORY = '/data/expression_atlas/genome/GRCh38.p14'"
   ]
  },
  {
   "cell_type": "code",
   "execution_count": null,
   "id": "37e5d364-36da-4370-b22d-6b0db30ce4a7",
   "metadata": {},
   "outputs": [],
   "source": [
    "with open(os.path.join(OUTPUT_DIR,'projects.txt'), 'w') as f:\n",
    "    for i in IDS:\n",
    "        f.write(i)\n",
    "        f.write('\\n')"
   ]
  },
  {
   "cell_type": "code",
   "execution_count": null,
   "id": "729d5bc2-8195-455b-a4dd-07e31bd8c654",
   "metadata": {
    "tags": []
   },
   "outputs": [],
   "source": [
    "nxf_cmd_metadata = f\"\"\"sudo nextflow run nf-core/fetchngs \\\n",
    "--input {OUTPUT_DIR}/projects.txt \\\n",
    "--outdir {OUTPUT_DIR}/fetchngs_output \\\n",
    "--nf_core_pipeline rnaseq \\\n",
    "--skip_fastq_download \\\n",
    "-resume \\\n",
    "-profile docker \\\n",
    "-c {CONFIG_DIR}/fetchngs.config\"\"\"\n",
    "print(nxf_cmd_metadata)"
   ]
  },
  {
   "cell_type": "markdown",
   "id": "3950b589-681a-4608-b30e-f328dd5228b1",
   "metadata": {},
   "source": [
    "# Read Downloaded Metadata"
   ]
  },
  {
   "cell_type": "code",
   "execution_count": null,
   "id": "f1829a29-4621-45bf-97ec-004d0f5d4602",
   "metadata": {
    "tags": []
   },
   "outputs": [],
   "source": [
    "# samples = pd.read_csv('fetchngs_output/samplesheet/samplesheet.csv')\n",
    "# samples.columns"
   ]
  },
  {
   "cell_type": "markdown",
   "id": "04f30b4a-026b-4398-a839-8a51f2f61211",
   "metadata": {},
   "source": [
    "## Filter samples"
   ]
  },
  {
   "cell_type": "code",
   "execution_count": null,
   "id": "2d102909-a262-48a0-a429-93d9f64f5516",
   "metadata": {
    "tags": []
   },
   "outputs": [],
   "source": [
    "# samples['library_strategy'].value_counts()"
   ]
  },
  {
   "cell_type": "code",
   "execution_count": null,
   "id": "300aa236-05c8-4d06-8d29-efbb665bb456",
   "metadata": {
    "tags": []
   },
   "outputs": [],
   "source": [
    "# samples['library_layout'].value_counts()"
   ]
  },
  {
   "cell_type": "code",
   "execution_count": null,
   "id": "aea34322-1a6e-402d-9e37-0938dc66cd42",
   "metadata": {
    "tags": []
   },
   "outputs": [],
   "source": [
    "# samples['experiment_title'].value_counts()"
   ]
  },
  {
   "cell_type": "code",
   "execution_count": null,
   "id": "aa70e1e2-dadc-4afd-b1f6-15694f2cbca1",
   "metadata": {
    "tags": []
   },
   "outputs": [],
   "source": [
    "# samples['sample_description'].value_counts()"
   ]
  },
  {
   "cell_type": "markdown",
   "id": "faf54591-9388-48ed-a47e-80e99a5cb124",
   "metadata": {},
   "source": [
    "## Write filtered table to runsheet"
   ]
  },
  {
   "cell_type": "code",
   "execution_count": null,
   "id": "c8375778-0cd4-4c8f-ba61-fe0b1f1076c1",
   "metadata": {
    "tags": []
   },
   "outputs": [],
   "source": [
    "# samples['run_accession'].to_csv('runsheet.txt', index=False, header=False)"
   ]
  },
  {
   "cell_type": "markdown",
   "id": "8ef9d05e-65de-49c1-939f-61ed6dec4955",
   "metadata": {},
   "source": [
    "## Run custom download from sra bucket"
   ]
  },
  {
   "cell_type": "code",
   "execution_count": null,
   "id": "026fcc52-0939-4448-8187-d942dda5fe48",
   "metadata": {
    "tags": []
   },
   "outputs": [],
   "source": [
    "# Specify the path to downloaded metatdata below, for samplesheet.\n",
    "\n",
    "nxf_cmd_fastq = f\"\"\"sudo nextflow run /home/jupyter-mitch/download_sra \\\n",
    "--samplesheet {OUTPUT_DIR}/fetchngs_output/metadata/{IDS[0]}.runinfo_ftp.tsv \\\n",
    "--output_directory {OUTPUT_DIR}/fetchngs_output/fastq \\\n",
    "-w {OUTPUT_DIR}/work \\\n",
    "-profile docker\"\"\"\n",
    "print(nxf_cmd_fastq)"
   ]
  },
  {
   "cell_type": "code",
   "execution_count": null,
   "id": "270ded24-ce39-4447-93d3-27dc2a0ce334",
   "metadata": {},
   "outputs": [],
   "source": [
    "# result = subprocess.run(shlex.split(nxf_cmd_fastq), capture_output=True, text=True)\n",
    "# print(result.stdout)\n",
    "\n",
    "# if result.returncode != 0:\n",
    "#     print(\"Nextflow encountered an error:\", result.stderr)\n",
    "# else:\n",
    "#     shutil.rmtree('./work')\n",
    "\n",
    "# result_fastq = result.copy()"
   ]
  },
  {
   "cell_type": "markdown",
   "id": "0f2aa8d7-f957-4e45-9d7c-a2f74f6dee51",
   "metadata": {},
   "source": [
    "## Rearrange samplesheet fetch from fetchngs to make it compatible with nf-core rnaseq "
   ]
  },
  {
   "cell_type": "code",
   "execution_count": null,
   "id": "a0c0910f-3603-40b5-bd4e-c7834dea5c97",
   "metadata": {
    "tags": []
   },
   "outputs": [],
   "source": [
    "samplesheet = pd.read_csv(os.path.join(OUTPUT_DIR, 'fetchngs_output', 'samplesheet/samplesheet.csv'))\n",
    "\n",
    "samplesheet['fastq_1'] = [\n",
    "                        os.path.join(OUTPUT_DIR, 'fetchngs_output', 'fastq/%s_%s.fastq.gz' % (e,r)) if s == 'SINGLE' else\n",
    "                        os.path.join(OUTPUT_DIR, 'fetchngs_output', 'fastq/%s_%s_1.fastq.gz' % (e,r))\n",
    "                        for e,r,s in zip(samplesheet['experiment_accession'], samplesheet['run_accession'], samplesheet['library_layout'])\n",
    "                        ]\n",
    "samplesheet['fastq_2'] = [\n",
    "                        pd.NA if s == 'SINGLE' else\n",
    "                        os.path.join(OUTPUT_DIR, 'fetchngs_output', 'fastq/%s_%s_2.fastq.gz' % (e,r))\n",
    "                        for e,r,s in zip(samplesheet['experiment_accession'], samplesheet['run_accession'], samplesheet['library_layout'])\n",
    "                        ]\n",
    "\n",
    "samplesheet.to_csv(os.path.join(OUTPUT_DIR, 'fetchngs_output/samplesheet', 'samplesheet_alt.csv'), index=False, quoting=csv.QUOTE_NONNUMERIC)\n",
    "\n",
    "samplesheet"
   ]
  },
  {
   "cell_type": "markdown",
   "id": "03bdcba2-6ad5-4108-9d28-8781686367c9",
   "metadata": {
    "tags": []
   },
   "source": [
    "# Fetchngs to actually download fastq files"
   ]
  },
  {
   "cell_type": "code",
   "execution_count": null,
   "id": "c0c5fe4e-6239-4e91-990a-2fd356ed4755",
   "metadata": {
    "tags": []
   },
   "outputs": [],
   "source": [
    "# nxf_cmd_fastq = f\"\"\"nextflow run nf-core/fetchngs \\\n",
    "# --input runsheet.txt \\\n",
    "# --outdir {OUTPUT_DIR} \\\n",
    "# --nf_core_pipeline rnaseq \\\n",
    "# -resume \\\n",
    "# -profile docker \\\n",
    "# -c {CONFIG_DIR}/fetchngs.config\"\"\"\n",
    "# print(nxf_cmd_fastq)"
   ]
  },
  {
   "cell_type": "code",
   "execution_count": null,
   "id": "7dfbbab7-e4ce-47ce-8a50-f5b5dd71e01e",
   "metadata": {},
   "outputs": [],
   "source": [
    "# result = subprocess.run(shlex.split(nxf_cmd_fastq), capture_output=True, text=True)\n",
    "# print(result.stdout)\n",
    "\n",
    "# if result.returncode != 0:\n",
    "#     print(\"Nextflow encountered an error:\", result.stderr)\n",
    "# else:\n",
    "#     shutil.rmtree('./work')\n",
    "\n",
    "# result_fastq = result.copy()"
   ]
  },
  {
   "cell_type": "code",
   "execution_count": null,
   "id": "77d9cdf4-5823-4794-883c-84be3c5aa455",
   "metadata": {
    "tags": []
   },
   "outputs": [],
   "source": [
    "# # Read samplesheet from rnaseq\n",
    "# rnaseq_samples = pd.read_csv('fetchngs_output/samplesheet/samplesheet.csv')"
   ]
  },
  {
   "cell_type": "markdown",
   "id": "684870a6-cc84-4380-9e3e-0a5934f57691",
   "metadata": {},
   "source": [
    "## Check that all files are correct and exist\n",
    "Use MD5 checksums.\n",
    "\n",
    "Function returns 1 if md5 matched correctly.  \n",
    "Iterrate through and remove any samples with non-'1' values."
   ]
  },
  {
   "cell_type": "code",
   "execution_count": null,
   "id": "024b17a3-9338-41d9-ad5f-8eb9ae62b1ab",
   "metadata": {
    "tags": []
   },
   "outputs": [],
   "source": [
    "# def check_fastq_integrity(ix, path, md5 = None):\n",
    "#     if pathlib.Path(path).exists():\n",
    "#         if not md5 is None:\n",
    "#             checksum = subprocess.check_output(['md5sum', path]).decode().split(' ')[0]\n",
    "#             if checksum != md5:\n",
    "#                 return ix, 'md5sum error'\n",
    "#             else:\n",
    "#                 return ix, '1'\n",
    "#     else:\n",
    "#         return ix, 'fileExist error'\n",
    "# # Parsing inputs for parallel starmap    \n",
    "# inputs = {}\n",
    "# for ix, row in rnaseq_samples.iterrows():\n",
    "#     inputs[f'{ix}_a'] = [ix, row['fastq_1'], row['fastq_md5'].split(';')[0]]\n",
    "#     if isinstance(row['fastq_2'], str):\n",
    "#         inputs[f'{ix}_b'] = [ix, row['fastq_2'], row['fastq_md5'].split(';')[1]]\n",
    "# with mp.Pool(NCPU) as ppool:\n",
    "#     results = ppool.starmap(check_fastq_integrity, inputs.values())\n",
    "    \n",
    "# drop_indexes = []\n",
    "# for r in results:\n",
    "#     if r[1] != '1':\n",
    "#         drop_indexes.append(r[0])\n",
    "\n",
    "# rnaseq_samples.drop(drop_indexes, inplace=True)\n",
    "# rnaseq_samples.to_csv('rnaseq_samplesheet.csv', index=False)"
   ]
  },
  {
   "cell_type": "markdown",
   "id": "64a48145-b238-4ca7-8d47-d7e324be83f9",
   "metadata": {
    "tags": []
   },
   "source": [
    "# Run nf-core/rnaseq pipeline"
   ]
  },
  {
   "cell_type": "code",
   "execution_count": null,
   "id": "32282f9d-94ae-4691-a39b-447abc05c6b9",
   "metadata": {
    "tags": []
   },
   "outputs": [],
   "source": [
    "nxf_cmd_align = f\"\"\"sudo nextflow run nf-core/rnaseq \\\n",
    "--input {OUTPUT_DIR}/fetchngs_output/samplesheet/samplesheet_alt.csv \\\n",
    "--fasta {STAR_REFERENCE_DIRECTORY}/rsem/GRCh38.p14.genome.fa \\\n",
    "--gtf {STAR_REFERENCE_DIRECTORY}/veliadb_v0c.gtf \\\n",
    "--star_index {STAR_REFERENCE_DIRECTORY}/star \\\n",
    "--transcript_fasta {STAR_REFERENCE_DIRECTORY}/rsem/genome.transcripts.fa \\\n",
    "--rsem_index {STAR_REFERENCE_DIRECTORY}/rsem \\\n",
    "--salmon_index {STAR_REFERENCE_DIRECTORY}/salmon \\\n",
    "--outdir {OUTPUT_DIR}/rnaseq_output \\\n",
    "-w {OUTPUT_DIR}/work \\\n",
    "-profile docker \\\n",
    "-c {CONFIG_DIR}/rnaseq.config \\\n",
    "-resume\"\"\"\n",
    "print(nxf_cmd_align)"
   ]
  },
  {
   "cell_type": "code",
   "execution_count": null,
   "id": "4ec401b0-f94d-4c99-bb62-6e883f08bd8d",
   "metadata": {
    "tags": []
   },
   "outputs": [],
   "source": [
    "# result = subprocess.run(shlex.split(nxf_cmd_align), capture_output=True, text=True)\n",
    "# print(result.stdout)\n",
    "\n",
    "# if result.returncode != 0:\n",
    "#     print(\"Nextflow encountered an error:\", result.stderr)\n",
    "# else:\n",
    "#     shutil.rmtree(f'{OUTPUT_DIR}/work')\n",
    "\n",
    "# result_align = result.copy()"
   ]
  }
 ],
 "metadata": {
  "kernelspec": {
   "display_name": "sra_aws",
   "language": "python",
   "name": "sra_aws"
  },
  "language_info": {
   "codemirror_mode": {
    "name": "ipython",
    "version": 3
   },
   "file_extension": ".py",
   "mimetype": "text/x-python",
   "name": "python",
   "nbconvert_exporter": "python",
   "pygments_lexer": "ipython3",
   "version": "3.6.15"
  }
 },
 "nbformat": 4,
 "nbformat_minor": 5
}
