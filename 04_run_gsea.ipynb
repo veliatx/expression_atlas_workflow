{
 "cells": [
  {
   "cell_type": "markdown",
   "metadata": {},
   "source": [
    "# Run GSEA on DE output\n",
    "* Run prerank on all contrasts using gene sets defined in second cell. Results saved to uns['gsea_results_prerank'].\n",
    "* Run traditional GSEA using normalized counts with defined genesets. Results saved to uns['gsea_results_standard'].\n",
    "* Run single sample GSEA using normalized counts with defined genesets. Results saved to obsm as an array with columns keys in uns['ssgsea_colnames']."
   ]
  },
  {
   "cell_type": "code",
   "execution_count": null,
   "metadata": {},
   "outputs": [],
   "source": [
    "import os\n",
    "import pandas as pd\n",
    "import numpy as np\n",
    "from pybiomart import Dataset\n",
    "import anndata as ad\n",
    "import matplotlib.pyplot as plt\n",
    "import warnings\n",
    "\n",
    "import gseapy as gp\n",
    "from gseapy import Msigdb\n",
    "import gseapy.parser as gmtparser\n",
    "\n",
    "warnings.filterwarnings('ignore')"
   ]
  },
  {
   "cell_type": "markdown",
   "metadata": {},
   "source": [
    "### Define gene sets for gsea.\n",
    "* Available gene sets defined:\n",
    "    * At bottom of page here: https://gseapy.readthedocs.io/en/latest/gseapy_tutorial.html via enrichr API.\n",
    "    * Here: https://gseapy.readthedocs.io/en/latest/gseapy_example.html#Msigdb-API via Msigdb API.\n"
   ]
  },
  {
   "cell_type": "code",
   "execution_count": null,
   "metadata": {},
   "outputs": [],
   "source": [
    "NUM_CPUS = 8\n",
    "\n",
    "# DATA_PATH = os.getcwd()\n",
    "# DATA_PATH = '/data/expression_atlas/v1/GSE162828/'\n",
    "# DATA_PATH = '/data/expression_atlas/v1/GSE122459/'\n",
    "# DATA_PATH = '/data/expression_atlas/v1/GSE110914/'\n",
    "DATA_PATH = '/data/expression_atlas/v1/GSE80183/'\n",
    "\n",
    "RESULTS_PATH = '' + 'de_results/%s' % DATA_PATH.rstrip('/').split('/')[-1]\n",
    "\n",
    "DDS_GENE_FH = RESULTS_PATH + '_dds_gene.h5_ad'\n",
    "\n",
    "GENE_SET_ANNOTATIONS = [\n",
    "                    'h.all', \n",
    "                    'c2.all', \n",
    "                    'c3.all',\n",
    "                    'c6.all',\n",
    "                    'c7.all',\n",
    "                    'c8.all',\n",
    "                    'Reactome_2016',\n",
    "                    'KEGG_2016',\n",
    "                ]"
   ]
  },
  {
   "cell_type": "code",
   "execution_count": null,
   "metadata": {},
   "outputs": [],
   "source": [
    "# Download all the GENE_SET_ANNOTATIONS.\n",
    "\n",
    "for ga in GENE_SET_ANNOTATIONS:\n",
    "    if '.all' not in ga:\n",
    "        gmtparser.download_library(ga)"
   ]
  },
  {
   "cell_type": "markdown",
   "metadata": {},
   "source": [
    "### Contrasts defined in experiment."
   ]
  },
  {
   "cell_type": "code",
   "execution_count": null,
   "metadata": {},
   "outputs": [],
   "source": [
    "# Load adata objects containing normed_counts for running traditional gsea.\n",
    "\n",
    "dds_gene = ad.read_h5ad(DDS_GENE_FH)\n",
    "\n",
    "dds_gene.X.shape, dds_gene.uns['contrasts']"
   ]
  },
  {
   "cell_type": "code",
   "execution_count": null,
   "metadata": {},
   "outputs": [],
   "source": [
    "# Copy DE dataframes to new dataframe that can be manipulated for gsea.\n",
    "\n",
    "dds_gene.uns['stat_results_gsea'] = {k:v.copy() for k,v in dds_gene.uns['stat_results'].items()}\n"
   ]
  },
  {
   "cell_type": "code",
   "execution_count": null,
   "metadata": {},
   "outputs": [],
   "source": [
    "# Filter dataframes by gene_id, only keep ensembl gene ids.\n",
    "\n",
    "gene_prefix = 'ENSG'\n",
    "\n",
    "for k in dds_gene.uns['stat_results_gsea'].keys():\n",
    "    dds_gene.uns['stat_results_gsea'][k] = dds_gene.uns['stat_results_gsea'][k][\n",
    "                                                dds_gene.uns['stat_results_gsea'][k].index.str.startswith(gene_prefix)\n",
    "                                            ]"
   ]
  },
  {
   "cell_type": "markdown",
   "metadata": {},
   "source": [
    "### PA1.1 Fetch gene_name/ensembl gene id mappings."
   ]
  },
  {
   "cell_type": "code",
   "execution_count": null,
   "metadata": {},
   "outputs": [],
   "source": [
    "# Fetch ensembl gene id - external gene name mappings from biomart.\n",
    "\n",
    "dataset = Dataset(\n",
    "                name='hsapiens_gene_ensembl',\n",
    "                host='http://www.ensembl.org',\n",
    "            )\n",
    "\n",
    "external_gene_mapping = dataset.query(\n",
    "                                attributes=[\n",
    "                                    'ensembl_gene_id', \n",
    "                                    'external_gene_name',\n",
    "                                ]\n",
    "                            )\n",
    "\n",
    "external_gene_mapping.rename({'Gene stable ID': 'gene_id', 'Gene name': 'gene_name'}, axis=1, inplace=True)\n",
    "\n",
    "external_gene_mapping"
   ]
  },
  {
   "cell_type": "code",
   "execution_count": null,
   "metadata": {},
   "outputs": [],
   "source": [
    "dataset.attributes.keys()"
   ]
  },
  {
   "cell_type": "code",
   "execution_count": null,
   "metadata": {},
   "outputs": [],
   "source": [
    "# Convert ensembl gene ids to stable ids by removing version. Merge external gene name.\n",
    "\n",
    "for k in dds_gene.uns['stat_results_gsea'].keys():\n",
    "    if 'gene_name' not in dds_gene.uns['stat_results_gsea'][k].columns:\n",
    "        dds_gene.uns['stat_results_gsea'][k].index = dds_gene.uns['stat_results_gsea'][k].index.str.split('.').str[0]\n",
    "\n",
    "        dds_gene.uns['stat_results_gsea'][k] = dds_gene.uns['stat_results_gsea'][k].merge(\n",
    "                                                                                        external_gene_mapping,\n",
    "                                                                                        left_index=True,\n",
    "                                                                                        right_on='gene_id',\n",
    "                                                                                    )"
   ]
  },
  {
   "cell_type": "code",
   "execution_count": null,
   "metadata": {},
   "outputs": [],
   "source": [
    "# Drop rows where there isn't a defined gene_name.\n",
    "\n",
    "for k in dds_gene.uns['stat_results_gsea'].keys():\n",
    "    dds_gene.uns['stat_results_gsea'][k] = dds_gene.uns['stat_results_gsea'][k][\n",
    "                                                                            ~dds_gene.uns['stat_results_gsea'][k]['gene_name'].isnull()\n",
    "                                                                        ]"
   ]
  },
  {
   "cell_type": "code",
   "execution_count": null,
   "metadata": {},
   "outputs": [],
   "source": [
    "# Pull MSigDB gene sets down.\n",
    "\n",
    "msigdb_gene_sets = {}\n",
    "\n",
    "msig = Msigdb()\n",
    "msig.list_category(dbver=\"2023.1.Hs\")\n",
    "\n",
    "for gs in [i for i in GENE_SET_ANNOTATIONS if '.all' in i]:\n",
    "\n",
    "    gmt = msig.get_gmt(category=gs, dbver='2023.1.Hs')\n",
    "    msigdb_gene_sets[gs] = gmt\n"
   ]
  },
  {
   "cell_type": "markdown",
   "metadata": {},
   "source": [
    "### PA1.2 Run GSEA prerank using Wald statistic."
   ]
  },
  {
   "cell_type": "code",
   "execution_count": null,
   "metadata": {},
   "outputs": [],
   "source": [
    "# Run GSEA prerank on Wald statistic ranks in gsea DE dataframes using gene sets of choice.\n",
    "\n",
    "dds_gene.uns['gsea_results_prerank'] = {}\n",
    "\n",
    "for ga in GENE_SET_ANNOTATIONS:\n",
    "\n",
    "    for k in dds_gene.uns['stat_results_gsea'].keys():\n",
    "\n",
    "        gs_res = gp.prerank(\n",
    "                        rnk=dds_gene.uns['stat_results_gsea'][k][['gene_name', 'stat']],\n",
    "                        gene_sets=ga if '.all' not in ga else msigdb_gene_sets[ga],\n",
    "                        threads=NUM_CPUS,\n",
    "                        min_size=5, \n",
    "                        max_size=1000,\n",
    "                        permutation_num=1000,\n",
    "                        outdir=None,\n",
    "                        seed=42,\n",
    "                        verbose=True,\n",
    "                    )\n",
    "        \n",
    "        dds_gene.uns['gsea_results_prerank']['%s_%s' % (k,ga)] = gs_res.res2d.astype(str, copy=True).copy()\n",
    "\n",
    "        print('%s_%s' % (k, ga))\n",
    "        display(gs_res.res2d.head(10))\n",
    "\n",
    "        terms = gs_res.res2d.Term\n",
    "        axs = gs_res.plot(terms=terms[0:20])\n",
    "        axs.suptitle('%s_%s' % (k,ga), y=0.0)"
   ]
  },
  {
   "cell_type": "code",
   "execution_count": null,
   "metadata": {},
   "outputs": [],
   "source": [
    "# Create dataframes and class vectors for running GSEA on normed_counts. \n",
    "\n",
    "gene_df = pd.DataFrame(dds_gene.layers['normed_counts'].T, columns=dds_gene.obs.index, index=dds_gene.var.index)\n",
    "\n",
    "# Filter dataframes by gene_id, only keep ensembl gene ids.\n",
    "gene_prefix = 'ENSG'\n",
    "gene_df = gene_df[gene_df.index.str.startswith(gene_prefix)]\n",
    "\n",
    "if any(True for i in gene_df.index if '.' in i):\n",
    "    \n",
    "    gene_df.index = gene_df.index.str.split('.').str[0]\n",
    "\n",
    "    gene_df = gene_df.merge(external_gene_mapping, left_index=True, right_on='gene_id')\n",
    "\n",
    "    gene_df = gene_df[~gene_df['gene_name'].isnull()]\n",
    "\n",
    "    gene_df.set_index('gene_name', inplace=True)\n",
    "    \n",
    "dds_gene.uns['gsea_gene_df'] = gene_df.copy()\n"
   ]
  },
  {
   "cell_type": "markdown",
   "metadata": {},
   "source": [
    "### PA1.2 Run traditional GSEA on normalized counts."
   ]
  },
  {
   "cell_type": "code",
   "execution_count": null,
   "metadata": {},
   "outputs": [],
   "source": [
    "# Run GSEA on normed_counts for each contrast specied in dds object.\n",
    "\n",
    "dds_gene.uns['gsea_results_standard'] = {}\n",
    "\n",
    "for ga in GENE_SET_ANNOTATIONS:\n",
    "\n",
    "    for k, v in dds_gene.uns['contrasts'].items():\n",
    "\n",
    "        smallest_condition_size = dds_gene.obs[v[0]].value_counts()[-1]\n",
    "\n",
    "        if smallest_condition_size < 3:\n",
    "            continue\n",
    "\n",
    "        conditions = dds_gene.obs[v[0]].values\n",
    "\n",
    "        samples_in_contrast = dds_gene.obs[dds_gene.obs[v[0]].isin([v[1], v[2]])].index\n",
    "\n",
    "        conditions = dds_gene.obs.loc[samples_in_contrast, v[0]]\n",
    "\n",
    "        gs_res = gp.gsea(\n",
    "                        data=dds_gene.uns['gsea_gene_df'][samples_in_contrast],\n",
    "                        gene_sets=ga if '.all' not in ga else msigdb_gene_sets[ga],\n",
    "                        cls=conditions,\n",
    "                        permutation_type='phenotype' if len(conditions) > 15 else 'gene_set',\n",
    "                        permutation_num=1000,\n",
    "                        outdir=None,\n",
    "                        method='signal_to_noise',\n",
    "                        min_size=5,\n",
    "                        max_size=1000,\n",
    "                        threads=NUM_CPUS, \n",
    "                        seed= 42,\n",
    "                        verbose=True,\n",
    "                    )\n",
    "        \n",
    "        dds_gene.uns['gsea_results_standard']['%s_%s' % (k, ga)] = gs_res.res2d.astype(str).copy()\n",
    "\n",
    "        print('%s_%s' % (k, ga))\n",
    "        print(gs_res.res2d.head(10).to_string())\n",
    "\n",
    "        terms = gs_res.res2d.Term\n",
    "        axs = gs_res.plot(terms=terms[0:20])\n",
    "        axs.suptitle(k,y=0.0)"
   ]
  },
  {
   "cell_type": "markdown",
   "metadata": {},
   "source": [
    "### PA1.3 Run single-sample GSEA. Save pathway enrichment- and normalized enrichment- scores to anndata."
   ]
  },
  {
   "cell_type": "code",
   "execution_count": null,
   "metadata": {},
   "outputs": [],
   "source": [
    "# Run all samples through ssgsea, create matrix of ssgsea output in dds.obsm storing ssgsea NES and ES.\n",
    "# There's an issue saving pandas DataFrames with large headers via hdf5, so saving ssgsea results in two\n",
    "# arrays in obsm, and then saving header to separate arrays in uns.\n",
    "\n",
    "dds_gene.uns['ssgsea_colnames'] = {}\n",
    "\n",
    "for ga in GENE_SET_ANNOTATIONS:\n",
    "\n",
    "    if '.all' in ga:\n",
    "        gmt = msigdb_gene_sets[ga]\n",
    "    else:\n",
    "        gmt = gmtparser.get_library(ga)\n",
    "\n",
    "    dds_gene.obsm['%s_ssgsea_es' % ga] = np.zeros((dds_gene.obs.shape[0], len(gmt)))\n",
    "\n",
    "    dds_gene.obsm['%s_ssgsea_nes' % ga] = np.zeros((dds_gene.obs.shape[0], len(gmt))) \n",
    "\n",
    "    dds_gene.uns['ssgsea_colnames'][ga] = np.array([c for c in gmt.keys()])\n",
    "            \n",
    "    for i,s in enumerate(dds_gene.obs.index):\n",
    "        \n",
    "        ss = gp.ssgsea(\n",
    "                data=dds_gene.uns['gsea_gene_df'].loc[:,s].rename(None, inplace=True),\n",
    "                gene_sets=ga if '.all' not in ga else msigdb_gene_sets[ga],\n",
    "                outdir=None,\n",
    "                sample_norm_method='rank', \n",
    "                no_plot=True,\n",
    "                verbose=True,\n",
    "                min_size=5, \n",
    "                max_size=1000,\n",
    "                )\n",
    "\n",
    "        ss.res2d.set_index('Term', inplace=True)\n",
    "\n",
    "        for c in ss.res2d.index:\n",
    "\n",
    "            c_index = np.where(dds_gene.uns['ssgsea_colnames'][ga] == c)[0][0]\n",
    "\n",
    "            dds_gene.obsm['%s_ssgsea_es' % ga][i,c_index] = ss.res2d.loc[c,'ES']\n",
    "            dds_gene.obsm['%s_ssgsea_nes' % ga][i,c_index] = ss.res2d.loc[c,'NES']\n",
    "            "
   ]
  },
  {
   "cell_type": "code",
   "execution_count": null,
   "metadata": {},
   "outputs": [],
   "source": [
    "# Save output of gsea analyses.\n",
    "\n",
    "dds_gene.write(DDS_GENE_FH)"
   ]
  }
 ],
 "metadata": {
  "kernelspec": {
   "display_name": "Python 3",
   "language": "python",
   "name": "python3"
  },
  "language_info": {
   "codemirror_mode": {
    "name": "ipython",
    "version": 3
   },
   "file_extension": ".py",
   "mimetype": "text/x-python",
   "name": "python",
   "nbconvert_exporter": "python",
   "pygments_lexer": "ipython3",
   "version": "3.8.17"
  },
  "orig_nbformat": 4
 },
 "nbformat": 4,
 "nbformat_minor": 2
}
