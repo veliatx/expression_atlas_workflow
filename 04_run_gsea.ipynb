{
 "cells": [
  {
   "cell_type": "markdown",
   "metadata": {},
   "source": [
    "# Run GSEA on DE output"
   ]
  },
  {
   "cell_type": "code",
   "execution_count": null,
   "metadata": {},
   "outputs": [],
   "source": [
    "import os\n",
    "import pandas as pd\n",
    "import numpy as np\n",
    "import glob\n",
    "from pybiomart import Dataset\n",
    "import anndata as ad\n",
    "import matplotlib.pyplot as plt\n",
    "\n",
    "import gseapy as gp\n",
    "from gseapy import Msigdb\n"
   ]
  },
  {
   "cell_type": "code",
   "execution_count": null,
   "metadata": {},
   "outputs": [],
   "source": [
    "NUM_CPUS = 8\n",
    "\n",
    "# DATA_PATH = os.getcwd()\n",
    "# DATA_PATH = '/data/expression_atlas/v1/GSE162828/'\n",
    "# DATA_PATH = '/data/expression_atlas/v1/GSE122459/'\n",
    "# DATA_PATH = '/data/expression_atlas/v1/GSE110914/'\n",
    "DATA_PATH = '/data/expression_atlas/v1/GSE80183/'\n",
    "\n",
    "RESULTS_PATH = '' + 'results/%s' % DATA_PATH.rstrip('/').split('/')[-1]\n",
    "\n",
    "DDS_GENE_FH = '' + 'results/%s_dds_gene.h5_ad' % DATA_PATH.rstrip('/').split('/')[-1]\n",
    "\n",
    "DDS_GENE_FH_OUT = '' + 'results/%s_dds_gene_gsea.h5_ad' % DATA_PATH.rstrip('/').split('/')[-1]"
   ]
  },
  {
   "cell_type": "code",
   "execution_count": null,
   "metadata": {},
   "outputs": [],
   "source": [
    "# Recover fh of all pydeseq2 output files.\n",
    "\n",
    "de_gene_files = glob.glob('%s_gene*.csv' % RESULTS_PATH)\n",
    "de_gene_files"
   ]
  },
  {
   "cell_type": "code",
   "execution_count": null,
   "metadata": {},
   "outputs": [],
   "source": [
    "# Load DE dataframes.\n",
    "\n",
    "de_gene_dfs = {k:pd.read_csv(k, index_col=0) for k in de_gene_files}"
   ]
  },
  {
   "cell_type": "code",
   "execution_count": null,
   "metadata": {},
   "outputs": [],
   "source": [
    "# Filter dataframes by gene_id, only keep ensembl gene ids.\n",
    "\n",
    "gene_prefix = 'ENSG'\n",
    "\n",
    "for k in de_gene_dfs.keys():\n",
    "    de_gene_dfs[k] = de_gene_dfs[k][de_gene_dfs[k].index.str.startswith(gene_prefix)]\n"
   ]
  },
  {
   "cell_type": "code",
   "execution_count": null,
   "metadata": {},
   "outputs": [],
   "source": [
    "# Fetch ensembl gene id - external gene name mappings from biomart.\n",
    "\n",
    "dataset = Dataset(\n",
    "                name='hsapiens_gene_ensembl',\n",
    "                host='http://www.ensembl.org',\n",
    "    )\n",
    "\n",
    "external_gene_mapping = dataset.query(\n",
    "                                attributes=['ensembl_gene_id', 'external_gene_name']\n",
    "    )\n",
    "\n",
    "external_gene_mapping.rename({'Gene stable ID': 'gene_id', 'Gene name': 'gene_name'}, axis=1, inplace=True)\n",
    "\n",
    "external_gene_mapping"
   ]
  },
  {
   "cell_type": "code",
   "execution_count": null,
   "metadata": {},
   "outputs": [],
   "source": [
    "# Convert ensembl gene ids to stable ids by removing version. Merge external gene name. \n",
    "\n",
    "for k in de_gene_dfs.keys():\n",
    "    if 'gene_name' not in de_gene_dfs[k].columns:\n",
    "        de_gene_dfs[k].index = de_gene_dfs[k].index.str.split('.').str[0]\n",
    "\n",
    "        de_gene_dfs[k] = de_gene_dfs[k].merge(\n",
    "                                            external_gene_mapping, \n",
    "                                            left_index=True, \n",
    "                                            right_on='gene_id',\n",
    "                                        )\n",
    "        de_gene_dfs[k].set_index('gene_id', inplace=True)"
   ]
  },
  {
   "cell_type": "code",
   "execution_count": null,
   "metadata": {},
   "outputs": [],
   "source": [
    "# Drop rows where there isn't a defined gene_name\n",
    "\n",
    "for k in de_gene_dfs.keys():\n",
    "    de_gene_dfs[k] = de_gene_dfs[k][~de_gene_dfs[k]['gene_name'].isnull()]"
   ]
  },
  {
   "cell_type": "code",
   "execution_count": null,
   "metadata": {},
   "outputs": [],
   "source": [
    "# Create rank tables from dataframes using wald test statistic.\n",
    "\n",
    "de_gene_ranks = {k: [\n",
    "                v.reset_index()[['gene_name', 'stat']].sort_values('stat', axis=0),\n",
    "                None,\n",
    "                ] for k,v in de_gene_dfs.items()}"
   ]
  },
  {
   "cell_type": "code",
   "execution_count": null,
   "metadata": {},
   "outputs": [],
   "source": [
    "# Pull MSigDB gene sets down.\n",
    "\n",
    "msig = Msigdb()\n",
    "msig.list_category(dbver=\"2023.1.Hs\")\n",
    "gmt = msig.get_gmt(category='h.all', dbver='2023.1.Hs')\n",
    "# gmt = msig.get_gmt(category='c2.all', dbver='2023.1.Hs')\n",
    "len(gmt), gmt\n"
   ]
  },
  {
   "cell_type": "code",
   "execution_count": null,
   "metadata": {},
   "outputs": [],
   "source": [
    "# Run GSEA prerank on rank dataframes using gene sets of choice.\n",
    "\n",
    "for k in de_gene_dfs.keys():\n",
    "    gs_res = gp.prerank(\n",
    "                                rnk=de_gene_ranks[k][0],\n",
    "                                # gene_sets='KEGG_2016',\n",
    "                                # gene_sets='GO_Biological_Process_2013', \n",
    "                                # gene_sets='ENCODE_and_ChEA_Consensus_TFs_from_ChIP-X',\n",
    "                                # gene_sets='Reactome_2016',\n",
    "                                # gene_sets='MSigDB_Computational',\n",
    "                                gene_sets=gmt,\n",
    "                                threads=NUM_CPUS,\n",
    "                                min_size=5,\n",
    "                                max_size=1000,\n",
    "                                permuation_num=1000,\n",
    "                                outdir=None,\n",
    "                                seed=42,\n",
    "                                verbose=True\n",
    "                                )\n",
    "\n",
    "    de_gene_ranks[k][1] = gs_res\n",
    "\n",
    "    print(k)\n",
    "    print(de_gene_ranks[k][1].res2d.head(10).to_string())\n",
    "\n",
    "    terms = gs_res.res2d.Term\n",
    "    axs = gs_res.plot(terms=terms[0:20])\n",
    "    axs.suptitle(k, y=0.0)\n"
   ]
  },
  {
   "cell_type": "code",
   "execution_count": null,
   "metadata": {},
   "outputs": [],
   "source": [
    "# Load adata objects containing normed_counts for running traditional gsea.\n",
    "\n",
    "dds_gene = ad.read_h5ad(DDS_GENE_FH)\n",
    "\n",
    "dds_gene.X.shape, dds_gene.uns['contrasts']"
   ]
  },
  {
   "cell_type": "code",
   "execution_count": null,
   "metadata": {},
   "outputs": [],
   "source": [
    "# Create dataframes and class vectors for running GSEA on normed_counts. \n",
    "\n",
    "gene_df = pd.DataFrame(dds_gene.layers['normed_counts'].T, columns=dds_gene.obs.index, index=dds_gene.var.index)\n",
    "\n",
    "# Filter dataframes by gene_id, only keep ensembl gene ids.\n",
    "gene_prefix = 'ENSG'\n",
    "gene_df = gene_df[gene_df.index.str.startswith(gene_prefix)]\n",
    "\n",
    "if any(True for i in gene_df.index if '.' in i):\n",
    "    \n",
    "    gene_df.index = gene_df.index.str.split('.').str[0]\n",
    "\n",
    "    gene_df = gene_df.merge(external_gene_mapping, left_index=True, right_on='gene_id')\n",
    "\n",
    "    gene_df = gene_df[~gene_df['gene_name'].isnull()]\n",
    "\n",
    "    gene_df.set_index('gene_name', inplace=True)\n",
    "    \n",
    "gene_df.shape"
   ]
  },
  {
   "cell_type": "code",
   "execution_count": null,
   "metadata": {},
   "outputs": [],
   "source": [
    "# Run GSEA on normed_counts for each contrast specied in dds object.\n",
    "\n",
    "for k, v in dds_gene.uns['contrasts'].items():\n",
    "\n",
    "    smallest_condition_size = dds_gene.obs[v[0]].value_counts()[-1]\n",
    "\n",
    "    if smallest_condition_size < 3:\n",
    "        continue\n",
    "\n",
    "    conditions = dds_gene.obs[v[0]].values\n",
    "\n",
    "    samples_in_contrast = dds_gene.obs[dds_gene.obs[v[0]].isin([v[1], v[2]])].index\n",
    "\n",
    "    conditions = dds_gene.obs.loc[samples_in_contrast, v[0]]\n",
    "\n",
    "    gs_res = gp.gsea(\n",
    "                    data=gene_df[samples_in_contrast],\n",
    "                    gene_sets=gmt,\n",
    "                    cls=conditions,\n",
    "                    permutation_type='phenotype' if len(conditions) > 15 else 'gene_set',\n",
    "                    permutation_num=1000,\n",
    "                    outdir=None,  # do not write output to disk\n",
    "                    method='signal_to_noise',\n",
    "                    min_size=5,\n",
    "                    max_size=1000,\n",
    "                    threads=NUM_CPUS, \n",
    "                    seed= 42,\n",
    "                    verbose=True,\n",
    "                )\n",
    "    \n",
    "    dds_gene.uns['gsea_%s' % k] = gs_res.res2d.astype(str)\n",
    "\n",
    "    print(k)\n",
    "    print(gs_res.res2d.head(10).to_string())\n",
    "\n",
    "    terms = gs_res.res2d.Term\n",
    "    axs = gs_res.plot(terms=terms[0:20])\n",
    "    axs.suptitle(k,y=0.0)"
   ]
  },
  {
   "cell_type": "code",
   "execution_count": null,
   "metadata": {},
   "outputs": [],
   "source": [
    "# Run all samples through ssgsea, create matrix of ssgsea output in dds.obsm storing ssgsea NES.\n",
    "\n",
    "dds_gene.obsm['ssgsea_es'] = pd.DataFrame(\n",
    "                                np.zeros((dds_gene.obs.shape[0], len(gmt))), \n",
    "                                columns=[c for c in gmt.keys()],\n",
    "                                index=dds_gene.obs.index\n",
    "                            )\n",
    "\n",
    "dds_gene.obsm['ssgsea_nes'] = pd.DataFrame(\n",
    "                                np.zeros((dds_gene.obs.shape[0], len(gmt))), \n",
    "                                columns=[c for c in gmt.keys()],\n",
    "                                index=dds_gene.obs.index\n",
    "                            )\n",
    "            \n",
    "for i in dds_gene.obs.index:\n",
    "    \n",
    "    ss = gp.ssgsea(data=gene_df.loc[:,i].rename(None, inplace=True),\n",
    "               gene_sets=gmt,\n",
    "               outdir=None,\n",
    "               sample_norm_method='rank', \n",
    "               no_plot=True,\n",
    "               verbose=True,\n",
    "               min_size=5, \n",
    "               max_size=1000,\n",
    "               )\n",
    "\n",
    "    ss.res2d.set_index('Term', inplace=True)\n",
    "\n",
    "    for c in dds_gene.obsm['ssgsea_es'].columns:\n",
    "        dds_gene.obsm['ssgsea_es'].loc[i,c] = ss.res2d.loc[c,'ES']\n",
    "        dds_gene.obsm['ssgsea_nes'].loc[i,c] = ss.res2d.loc[c,'NES']"
   ]
  },
  {
   "cell_type": "code",
   "execution_count": null,
   "metadata": {},
   "outputs": [],
   "source": [
    "# Save output of gsea analyses.\n",
    "\n",
    "dds_gene.write(DDS_GENE_FH_OUT)"
   ]
  },
  {
   "cell_type": "code",
   "execution_count": null,
   "metadata": {},
   "outputs": [],
   "source": [
    "from sklearn.preprocessing import StandardScaler\n",
    "from sklearn.decomposition import PCA"
   ]
  },
  {
   "cell_type": "code",
   "execution_count": null,
   "metadata": {},
   "outputs": [],
   "source": [
    "scaler = StandardScaler()\n",
    "scaled_data = scaler.fit_transform(dds_gene.obsm['ssgsea_es'])"
   ]
  },
  {
   "cell_type": "code",
   "execution_count": null,
   "metadata": {},
   "outputs": [],
   "source": [
    "scaled_data"
   ]
  },
  {
   "cell_type": "code",
   "execution_count": null,
   "metadata": {},
   "outputs": [],
   "source": [
    "pca = PCA(n_components=scaled_data.shape[0])\n",
    "\n",
    "pca_out = pca.fit_transform(scaled_data)"
   ]
  },
  {
   "cell_type": "code",
   "execution_count": null,
   "metadata": {},
   "outputs": [],
   "source": [
    "pca_out.shape"
   ]
  },
  {
   "cell_type": "code",
   "execution_count": null,
   "metadata": {},
   "outputs": [],
   "source": [
    "plt.plot(pca.explained_variance_ratio_)"
   ]
  },
  {
   "cell_type": "code",
   "execution_count": null,
   "metadata": {},
   "outputs": [],
   "source": [
    "plt.scatter(pca_out[:,0], pca_out[:,1],c=['b' if c == 'CONTROL' else 'k' for c in dds_gene.obs['condition-1']])\n",
    "plt.xlabel('PC1')\n",
    "plt.ylabel('PC2')"
   ]
  }
 ],
 "metadata": {
  "kernelspec": {
   "display_name": "Python 3",
   "language": "python",
   "name": "python3"
  },
  "language_info": {
   "codemirror_mode": {
    "name": "ipython",
    "version": 3
   },
   "file_extension": ".py",
   "mimetype": "text/x-python",
   "name": "python",
   "nbconvert_exporter": "python",
   "pygments_lexer": "ipython3",
   "version": "3.8.17"
  },
  "orig_nbformat": 4
 },
 "nbformat": 4,
 "nbformat_minor": 2
}
