{
 "cells": [
  {
   "cell_type": "markdown",
   "metadata": {},
   "source": [
    "# Run GSEA on DE output"
   ]
  },
  {
   "cell_type": "code",
   "execution_count": null,
   "metadata": {},
   "outputs": [],
   "source": [
    "import pandas as pd\n",
    "import numpy as np\n",
    "import glob\n",
    "from pybiomart import Dataset\n",
    "import gseapy as gp"
   ]
  },
  {
   "cell_type": "code",
   "execution_count": null,
   "metadata": {},
   "outputs": [],
   "source": [
    "NUM_CPUS = 8\n",
    "# DATA_PATH = '/data/expression_atlas/v1/GSE162828/'\n",
    "DATA_PATH = '/data/expression_atlas/v1/GSE122459/'\n",
    "\n",
    "\n",
    "RESULTS_PATH = '' + 'results/%s' % DATA_PATH.rstrip('/').split('/')[-1]"
   ]
  },
  {
   "cell_type": "code",
   "execution_count": null,
   "metadata": {},
   "outputs": [],
   "source": [
    "# Recover fh of all pydeseq2 output files \n",
    "\n",
    "de_transcript_files = glob.glob('%s_transcript*.csv' % RESULTS_PATH)\n",
    "de_gene_files = glob.glob('%s_gene*.csv' % RESULTS_PATH)\n",
    "de_transcript_files, de_gene_files"
   ]
  },
  {
   "cell_type": "code",
   "execution_count": null,
   "metadata": {},
   "outputs": [],
   "source": [
    "# Load DE dataframes\n",
    "\n",
    "de_transcript_dfs = {k:pd.read_csv(k, index_col=0) for k in de_transcript_files}\n",
    "de_gene_dfs = {k:pd.read_csv(k, index_col=0) for k in de_gene_files}"
   ]
  },
  {
   "cell_type": "code",
   "execution_count": null,
   "metadata": {},
   "outputs": [],
   "source": [
    "# Filter dataframes by gene_id, only keep ensembl gene ids.\n",
    "\n",
    "gene_prefix = 'ENSG'\n",
    "\n",
    "for k in de_gene_dfs.keys():\n",
    "    de_gene_dfs[k] = de_gene_dfs[k][de_gene_dfs[k].index.str.startswith(gene_prefix)]\n",
    "\n",
    "for k, v in de_transcript_dfs.items():\n",
    "    de_transcript_dfs[k] = de_transcript_dfs[k][de_transcript_dfs[k]['gene_id'].str.startswith(gene_prefix)]\n"
   ]
  },
  {
   "cell_type": "code",
   "execution_count": null,
   "metadata": {},
   "outputs": [],
   "source": [
    "# Fetch ensembl gene id - external gene name mappings from biomart.\n",
    "\n",
    "dataset = Dataset(\n",
    "                name='hsapiens_gene_ensembl',\n",
    "                host='http://www.ensembl.org',\n",
    "    )\n",
    "\n",
    "external_gene_mapping = dataset.query(\n",
    "                                attributes=['ensembl_gene_id', 'external_gene_name']\n",
    "    )\n",
    "\n",
    "external_gene_mapping.rename({'Gene stable ID': 'gene_id', 'Gene name': 'gene_name'}, axis=1, inplace=True)\n",
    "\n",
    "external_gene_mapping"
   ]
  },
  {
   "cell_type": "code",
   "execution_count": null,
   "metadata": {},
   "outputs": [],
   "source": [
    "# Convert ensembl gene ids to stable ids by removing version. Merge external gene name. \n",
    "\n",
    "for k in de_gene_dfs.keys():\n",
    "    if 'gene_name' not in de_gene_dfs[k].columns:\n",
    "        de_gene_dfs[k].index = de_gene_dfs[k].index.str.split('.').str[0]\n",
    "\n",
    "        de_gene_dfs[k] = de_gene_dfs[k].merge(\n",
    "                                            external_gene_mapping, \n",
    "                                            left_index=True, \n",
    "                                            right_on='gene_id',\n",
    "                                        )\n",
    "        de_gene_dfs[k].set_index('gene_id', inplace=True)\n",
    "\n",
    "\n",
    "for k in de_transcript_dfs.keys():\n",
    "    if 'gene_name' not in de_transcript_dfs[k].columns:\n",
    "\n",
    "        de_transcript_dfs[k]['gene_id'] = de_transcript_dfs[k]['gene_id'].str.split('.').str[0]\n",
    "\n",
    "        de_transcript_dfs[k] = de_transcript_dfs[k].merge(\n",
    "                                                    external_gene_mapping,\n",
    "                                                    on='gene_id',\n",
    "                                                )\n"
   ]
  },
  {
   "cell_type": "code",
   "execution_count": null,
   "metadata": {},
   "outputs": [],
   "source": [
    "# Drop rows where there isn't a defined gene_name\n",
    "\n",
    "for k in de_gene_dfs.keys():\n",
    "    de_gene_dfs[k] = de_gene_dfs[k][~de_gene_dfs[k]['gene_name'].isnull()]\n",
    "\n",
    "for k in de_transcript_dfs.keys():\n",
    "    de_transcript_dfs[k] = de_transcript_dfs[k][~de_transcript_dfs[k]['gene_name'].isnull()]"
   ]
  },
  {
   "cell_type": "code",
   "execution_count": null,
   "metadata": {},
   "outputs": [],
   "source": [
    "# Create rank tables from dataframes using wald test statistic.\n",
    "\n",
    "de_gene_ranks = {k: [\n",
    "                v.reset_index()[['gene_name', 'stat']].sort_values('stat', axis=0),\n",
    "                None,\n",
    "                ] for k,v in de_gene_dfs.items()}"
   ]
  },
  {
   "cell_type": "code",
   "execution_count": null,
   "metadata": {},
   "outputs": [],
   "source": [
    "# Run GSEA prerank on rank dataframes using gene sets of choice.\n",
    "\n",
    "for k in de_gene_dfs.keys():\n",
    "    de_gene_ranks[k][1] = gp.prerank(\n",
    "                                rnk=de_gene_ranks[k][0],\n",
    "                                # gene_sets='KEGG_2016',\n",
    "                                # gene_sets='GO_Biological_Process_2013', \n",
    "                                # gene_sets='ENCODE_and_ChEA_Consensus_TFs_from_ChIP-X',\n",
    "                                gene_sets='Reactome_2016',\n",
    "                                threads=NUM_CPUS,\n",
    "                                min_size=5,\n",
    "                                max_size=1000,\n",
    "                                permuation_num=1000,\n",
    "                                outdir=None,\n",
    "                                seed=42,\n",
    "                                verbose=True\n",
    "                                )\n",
    "\n",
    "    print(k)\n",
    "    print(de_gene_ranks[k][1].res2d.head(10).to_string())\n"
   ]
  },
  {
   "cell_type": "code",
   "execution_count": null,
   "metadata": {},
   "outputs": [],
   "source": [
    "# Visualize the top N pathways/results from prerank analysis.\n",
    "\n",
    "for k in de_gene_dfs.keys():\n",
    "    terms = de_gene_ranks[k][1].res2d.Term\n",
    "    axs = de_gene_ranks[k][1].plot(terms=terms[0:20])"
   ]
  }
 ],
 "metadata": {
  "kernelspec": {
   "display_name": "Python 3",
   "language": "python",
   "name": "python3"
  },
  "language_info": {
   "codemirror_mode": {
    "name": "ipython",
    "version": 3
   },
   "file_extension": ".py",
   "mimetype": "text/x-python",
   "name": "python",
   "nbconvert_exporter": "python",
   "pygments_lexer": "ipython3",
   "version": "3.8.17"
  },
  "orig_nbformat": 4
 },
 "nbformat": 4,
 "nbformat_minor": 2
}
